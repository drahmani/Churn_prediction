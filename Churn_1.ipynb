{
 "cells": [
  {
   "cell_type": "code",
   "execution_count": 2,
   "metadata": {},
   "outputs": [
    {
     "name": "stdout",
     "output_type": "stream",
     "text": [
      "['Telco-Customer-Churn.csv', 'Input3', 'Input2', '.ipynb_checkpoints', 'input7']\n"
     ]
    },
    {
     "data": {
      "text/plain": [
       "array([[<matplotlib.axes._subplots.AxesSubplot object at 0xb2bc70710>,\n",
       "        <matplotlib.axes._subplots.AxesSubplot object at 0xb2bc86a20>],\n",
       "       [<matplotlib.axes._subplots.AxesSubplot object at 0xb29576d30>,\n",
       "        <matplotlib.axes._subplots.AxesSubplot object at 0xb29686080>]],\n",
       "      dtype=object)"
      ]
     },
     "execution_count": 2,
     "metadata": {},
     "output_type": "execute_result"
    },
    {
     "data": {
      "image/png": "[encoded data removed]",
      "text/plain": [
       "<Figure size 432x288 with 4 Axes>"
      ]
     },
     "metadata": {},
     "output_type": "display_data"
    }
   ],
   "source": [
    "import numpy as np\n",
    "import pandas as pd\n",
    "import matplotlib.pylab as plt\n",
    "import os\n",
    "import shutil\n",
    "import tensorflow as tf\n",
    "print(os.listdir(\"Input\"))\n",
    "#Importing the dataset\n",
    "df=pd.read_csv('Telco-Customer-Churn.csv')\n",
    "df.hist()"
   ]
  },
  {
   "cell_type": "code",
   "execution_count": 4,
   "metadata": {},
   "outputs": [
    {
     "name": "stdout",
     "output_type": "stream",
     "text": [
      "<class 'pandas.core.frame.DataFrame'>\n",
      "RangeIndex: 7043 entries, 0 to 7042\n",
      "Data columns (total 21 columns):\n",
      "customerID          7043 non-null object\n",
      "gender              7043 non-null object\n",
      "SeniorCitizen       7043 non-null object\n",
      "Partner             7043 non-null object\n",
      "Dependents          7043 non-null object\n",
      "tenure              7043 non-null int64\n",
      "PhoneService        7043 non-null object\n",
      "MultipleLines       7043 non-null object\n",
      "InternetService     7043 non-null object\n",
      "OnlineSecurity      7043 non-null object\n",
      "OnlineBackup        7043 non-null object\n",
      "DeviceProtection    7043 non-null object\n",
      "TechSupport         7043 non-null object\n",
      "StreamingTV         7043 non-null object\n",
      "StreamingMovies     7043 non-null object\n",
      "Contract            7043 non-null object\n",
      "PaperlessBilling    7043 non-null object\n",
      "PaymentMethod       7043 non-null object\n",
      "MonthlyCharges      7043 non-null float64\n",
      "TotalCharges        7043 non-null float64\n",
      "Churn               7043 non-null object\n",
      "dtypes: float64(2), int64(1), object(18)\n",
      "memory usage: 1.1+ MB\n"
     ]
    }
   ],
   "source": [
    "###Some pre-processing!\n",
    "#TotalCharges has empty rows: Replace them with nan\n",
    "df['TotalCharges'] = pd.to_numeric(df['TotalCharges'], errors='coerce')\n",
    "#Okay now lets see how many nan values we have\n",
    "df['TotalCharges'].isnull().sum()\n",
    "# Out of 7043 there are 11 customers with no total charge reported\n",
    "##lets see if  monthly payment and membership times are complete?\n",
    "[df['tenure'].isnull().sum(),df['MonthlyCharges'].isnull().sum()]\n",
    "df_col_names = df.columns.tolist()[1:20]\n",
    "## either drop nan values or impute them\n",
    "#df=df.dropna() #drop nan values\n",
    "#or we can imput them in two ways:\n",
    "#1) use fillna from pandas:  \n",
    "#df=df.fillna(method=\"backfill\")\n",
    "#1)or use customers infor to fill the missing values: easier way can be TotalCharge=MonthlyCharges*tenure(membership_length)\n",
    "df['TotalCharges'].fillna(value=df['tenure'] * df['MonthlyCharges'], inplace=True)\n",
    "#Unifing features: Only SeniorCitizen is boolean 0 or 1, lets make it yes and no\n",
    "df['SeniorCitizen'] = df['SeniorCitizen'].replace({1: 'Yes',0: 'No'}) \n",
    "df.info()\n",
    "# three numerical feature:Num_col and 16 categorical ones\n",
    "numeric_feature  = ['tenure', 'MonthlyCharges', 'TotalCharges']"
   ]
  },
  {
   "cell_type": "code",
   "execution_count": 6,
   "metadata": {},
   "outputs": [],
   "source": [
    "#target variable-Churn- is an object with yes and no, convert it to 1 and 0! \n",
    "df['Churn']=df['Churn'].astype('category').cat.codes\n",
    "customerID=df['customerID']\n",
    "numeric_feature  = ['tenure', 'MonthlyCharges', 'TotalCharges']\n",
    "numeric_feature_cols = [tf.feature_column.numeric_column(c) for c in numeric_feature]\n",
    "categorical_feature_name  = [i for i in df_col_names if i not in numeric_feature]\n",
    "dim_cat=[len(df[i].unique()) for i in categorical_feature_name]"
   ]
  },
  {
   "cell_type": "code",
   "execution_count": 45,
   "metadata": {},
   "outputs": [],
   "source": [
    "#Set feature matrix and target variable as X and Y\n",
    "X = df.drop(['customerID','Churn'], axis=1) #19 features and 7043 customers\n",
    "Y = df['Churn']\n",
    "# split data into train and test datasets:\n",
    "from sklearn.model_selection import train_test_split\n",
    "X_train, X_test, y_train, y_test = train_test_split(X, Y, test_size=0.25, random_state=1)\n"
   ]
  },
  {
   "cell_type": "code",
   "execution_count": 10,
   "metadata": {},
   "outputs": [],
   "source": [
    "#Create input functions for train and test\n",
    "batch_size = 100\n",
    "train_input_func = tf.estimator.inputs.pandas_input_fn(x=X_train, y=y_train, batch_size=batch_size,num_epochs=1000, shuffle=True)\n",
    "test_input_func = tf.estimator.inputs.pandas_input_fn(x=X_test,y=y_test,batch_size=batch_size,num_epochs=1,shuffle=False)\n",
    "n_classes = 2 # binary classifier for churn yes or no\n"
   ]
  },
  {
   "cell_type": "code",
   "execution_count": 58,
   "metadata": {},
   "outputs": [
    {
     "data": {
      "text/plain": [
       "<tensorflow.python.estimator.canned.linear.LinearClassifier at 0x1a42a01588>"
      ]
     },
     "execution_count": 58,
     "metadata": {},
     "output_type": "execute_result"
    }
   ],
   "source": [
    "#######  Linear classifier\n",
    "#Create feature columns  for numerical and categorical features\n",
    "shutil.rmtree(\"Input/Input1\")\n",
    "categorical_features = [tf.feature_column.categorical_column_with_hash_bucket(c, hash_bucket_size=size) \n",
    "            for c, size in zip(categorical_feature_name, dim_cat)]\n",
    "all_feature_columns = numeric_feature_cols + categorical_features\n",
    "#train the classifier:\n",
    "classifier_linear= tf.estimator.LinearClassifier(feature_columns=all_feature_columns, n_classes=n_classes,model_dir=\"Input/Input1\")\n",
    "tf.logging.set_verbosity(tf.logging.ERROR)\n",
    "classifier_linear.train(input_fn=train_input_func, steps=10000) "
   ]
  },
  {
   "cell_type": "code",
   "execution_count": 62,
   "metadata": {},
   "outputs": [
    {
     "name": "stdout",
     "output_type": "stream",
     "text": [
      "[[1218  109]\n",
      " [ 242  192]]\n",
      "              precision    recall  f1-score   support\n",
      "\n",
      "           0       0.83      0.92      0.87      1327\n",
      "           1       0.64      0.44      0.52       434\n",
      "\n",
      "    accuracy                           0.80      1761\n",
      "   macro avg       0.74      0.68      0.70      1761\n",
      "weighted avg       0.79      0.80      0.79      1761\n",
      "\n"
     ]
    },
    {
     "data": {
      "text/plain": [
       "{'accuracy': 0.8006814,\n",
       " 'accuracy_baseline': 0.7535491,\n",
       " 'auc': 0.744876,\n",
       " 'auc_precision_recall': 0.5842977,\n",
       " 'average_loss': 0.98430985,\n",
       " 'label/mean': 0.24645089,\n",
       " 'loss': 96.29831,\n",
       " 'precision': 0.63787377,\n",
       " 'prediction/mean': 0.19007458,\n",
       " 'recall': 0.4423963,\n",
       " 'global_step': 10000}"
      ]
     },
     "execution_count": 62,
     "metadata": {},
     "output_type": "execute_result"
    }
   ],
   "source": [
    "#Evaluate classifier and predict y_test based on the classifier:\n",
    "y_pred = classifier_linear.predict(test_input_func)\n",
    "y_preds= [i['class_ids'][0] for i in y_pred]\n",
    "from sklearn.metrics import classification_report,confusion_matrix\n",
    "print(confusion_matrix(y_test, y_preds))\n",
    "print(classification_report(y_test, y_preds, target_names=['0','1']))\n",
    "classifier_linear.evaluate(test_input_func)"
   ]
  },
  {
   "cell_type": "code",
   "execution_count": 79,
   "metadata": {},
   "outputs": [
    {
     "data": {
      "text/plain": [
       "<tensorflow.python.estimator.canned.dnn.DNNClassifier at 0x1a3b1abd30>"
      ]
     },
     "execution_count": 79,
     "metadata": {},
     "output_type": "execute_result"
    }
   ],
   "source": [
    "#####DNNclassifier\n",
    "#Create Dense feature columns using embedding_column \n",
    "shutil.rmtree(\"Input/Input2\")\n",
    "vocab_categorical_features = [tf.feature_column.categorical_column_with_vocabulary_list(key=c,vocabulary_list=X[c].unique(),default_value=0)\n",
    "                      for c, size in zip(categorical_feature_name, dim_cat)]\n",
    "embed_categorical_features = [tf.feature_column.embedding_column(c,dimension=size)\n",
    "                      for c, size in zip(vocab_categorical_features, dim_cat)]\n",
    "all_embed_feature_columns = numeric_feature_cols + embed_categorical_features\n",
    "#DNNclassifier:\n",
    "dnnclassifier= tf.estimator.DNNClassifier(feature_columns=all_embed_feature_columns, hidden_units=[8,6],n_classes=n_classes,model_dir=\"Input/Input2\")\n",
    "##train the classifier:\n",
    "tf.logging.set_verbosity(tf.logging.ERROR)\n",
    "dnnclassifier.train(input_fn=train_input_func, steps=10000) "
   ]
  },
  {
   "cell_type": "code",
   "execution_count": 80,
   "metadata": {},
   "outputs": [
    {
     "name": "stdout",
     "output_type": "stream",
     "text": [
      "[[984 343]\n",
      " [ 80 354]]\n",
      "              precision    recall  f1-score   support\n",
      "\n",
      "           0       0.92      0.74      0.82      1327\n",
      "           1       0.51      0.82      0.63       434\n",
      "\n",
      "    accuracy                           0.76      1761\n",
      "   macro avg       0.72      0.78      0.72      1761\n",
      "weighted avg       0.82      0.76      0.77      1761\n",
      "\n"
     ]
    },
    {
     "data": {
      "text/plain": [
       "{'accuracy': 0.75979555,\n",
       " 'accuracy_baseline': 0.7535491,\n",
       " 'auc': 0.8573633,\n",
       " 'auc_precision_recall': 0.6659124,\n",
       " 'average_loss': 0.46565956,\n",
       " 'label/mean': 0.24645089,\n",
       " 'loss': 45.557026,\n",
       " 'precision': 0.50789094,\n",
       " 'prediction/mean': 0.3930745,\n",
       " 'recall': 0.8156682,\n",
       " 'global_step': 10000}"
      ]
     },
     "execution_count": 80,
     "metadata": {},
     "output_type": "execute_result"
    }
   ],
   "source": [
    "#Evaluate classifier and predict y_test based on the classifier:\n",
    "dnnclassifier.evaluate(test_input_func)\n",
    "y_pred = dnnclassifier.predict(pred_input_func)\n",
    "y_preds= [i['class_ids'][0] for i in y_pred]\n",
    "from sklearn.metrics import classification_report,confusion_matrix\n",
    "\n",
    "print(confusion_matrix(y_test, y_preds))\n",
    "print(classification_report(y_test, y_preds, target_names=['0','1']))\n",
    "dnnclassifier.evaluate(test_input_func)"
   ]
  },
  {
   "cell_type": "code",
   "execution_count": 65,
   "metadata": {},
   "outputs": [
    {
     "data": {
      "text/plain": [
       "<tensorflow.python.estimator.canned.linear.LinearClassifier at 0x1a3f7b5e80>"
      ]
     },
     "execution_count": 65,
     "metadata": {},
     "output_type": "execute_result"
    }
   ],
   "source": [
    "########### Model 1 - adding regularisation to LinearClassifier:\n",
    "shutil.rmtree(\"Input/Input3\")\n",
    "classifier_linear_m1 = tf.estimator.LinearClassifier(feature_columns=all_feature_columns,\n",
    "model_dir=\"Input/Input3\",optimizer=tf.train.FtrlOptimizer(learning_rate=0.1,l1_regularization_strength=0.9,l2_regularization_strength=5))\n",
    "tf.logging.set_verbosity(tf.logging.ERROR)\n",
    "classifier_linear_m1.train(input_fn=train_input_func, steps=10000)"
   ]
  },
  {
   "cell_type": "code",
   "execution_count": 66,
   "metadata": {},
   "outputs": [
    {
     "name": "stdout",
     "output_type": "stream",
     "text": [
      "[[1142  185]\n",
      " [ 196  238]]\n",
      "              precision    recall  f1-score   support\n",
      "\n",
      "           0       0.85      0.86      0.86      1327\n",
      "           1       0.56      0.55      0.56       434\n",
      "\n",
      "    accuracy                           0.78      1761\n",
      "   macro avg       0.71      0.70      0.71      1761\n",
      "weighted avg       0.78      0.78      0.78      1761\n",
      "\n"
     ]
    },
    {
     "data": {
      "text/plain": [
       "{'accuracy': 0.83,\n",
       " 'accuracy_baseline': 0.79,\n",
       " 'auc': 0.78450876,\n",
       " 'auc_precision_recall': 0.6114788,\n",
       " 'average_loss': 0.5334668,\n",
       " 'label/mean': 0.21,\n",
       " 'loss': 53.34668,\n",
       " 'precision': 0.5833333,\n",
       " 'prediction/mean': 0.274057,\n",
       " 'recall': 0.6666667,\n",
       " 'global_step': 10000}"
      ]
     },
     "execution_count": 66,
     "metadata": {},
     "output_type": "execute_result"
    }
   ],
   "source": [
    "classifier_linear_m1.evaluate(input_fn=test_input_func, steps=1)\n",
    "y_pred_l = classifier_linear_m1.predict(input_fn=test_input_func) \n",
    "y_preds_l= [i['class_ids'][0] for i in y_pred_l]\n",
    "from sklearn.metrics import classification_report,confusion_matrix\n",
    "print(confusion_matrix(y_test, y_preds_l))\n",
    "print(classification_report(y_test, y_preds_l, target_names=['0','1']))\n",
    "classifier_linear_m1.evaluate(input_fn=test_input_func, steps=1)"
   ]
  },
  {
   "cell_type": "code",
   "execution_count": 81,
   "metadata": {},
   "outputs": [
    {
     "data": {
      "text/plain": [
       "<tensorflow.python.estimator.canned.linear.LinearClassifier at 0x1a3f7b5e80>"
      ]
     },
     "execution_count": 81,
     "metadata": {},
     "output_type": "execute_result"
    }
   ],
   "source": [
    "########### Model 1 - adding regularisation to DNNClassifier:\n",
    "#all_feature_columns = numeric_feature_cols + categorical_features\n",
    "shutil.rmtree(\"Input/Input4\")\n",
    "all_embed_feature_columns = numeric_feature_cols + embed_categorical_features\n",
    "#DNNclassifier:\n",
    "dnnclassifier= tf.estimator.DNNClassifier(feature_columns=all_embed_feature_columns, hidden_units=[8,6],model_dir=\"Input/Input4\",optimizer=tf.train.FtrlOptimizer(learning_rate=0.1,l1_regularization_strength=0.4,l2_regularization_strength=1))\n",
    "tf.logging.set_verbosity(tf.logging.ERROR)\n",
    "classifier_linear_m1.train(input_fn=train_input_func, steps=10000)"
   ]
  },
  {
   "cell_type": "code",
   "execution_count": 83,
   "metadata": {},
   "outputs": [
    {
     "name": "stdout",
     "output_type": "stream",
     "text": [
      "[[1153  174]\n",
      " [ 186  248]]\n",
      "              precision    recall  f1-score   support\n",
      "\n",
      "           0       0.86      0.87      0.86      1327\n",
      "           1       0.59      0.57      0.58       434\n",
      "\n",
      "    accuracy                           0.80      1761\n",
      "   macro avg       0.72      0.72      0.72      1761\n",
      "weighted avg       0.79      0.80      0.79      1761\n",
      "\n"
     ]
    },
    {
     "data": {
      "text/plain": [
       "{'accuracy': 0.83,\n",
       " 'accuracy_baseline': 0.79,\n",
       " 'auc': 0.8318264,\n",
       " 'auc_precision_recall': 0.67544824,\n",
       " 'average_loss': 0.4205153,\n",
       " 'label/mean': 0.21,\n",
       " 'loss': 42.05153,\n",
       " 'precision': 0.5769231,\n",
       " 'prediction/mean': 0.29943252,\n",
       " 'recall': 0.71428573,\n",
       " 'global_step': 30000}"
      ]
     },
     "execution_count": 83,
     "metadata": {},
     "output_type": "execute_result"
    }
   ],
   "source": [
    "classifier_linear_m1.evaluate(input_fn=test_input_func, steps=1)\n",
    "y_pred_l = classifier_linear_m1.predict(input_fn=test_input_func) \n",
    "y_preds_l= [i['class_ids'][0] for i in y_pred_l]\n",
    "from sklearn.metrics import classification_report,confusion_matrix\n",
    "print(confusion_matrix(y_test, y_preds_l))\n",
    "print(classification_report(y_test, y_preds_l, target_names=['0','1']))\n",
    "classifier_linear_m1.evaluate(input_fn=test_input_func, steps=1)"
   ]
  },
  {
   "cell_type": "code",
   "execution_count": 91,
   "metadata": {},
   "outputs": [
    {
     "data": {
      "text/plain": [
       "<tensorflow.python.estimator.canned.linear.LinearClassifier at 0x1a4b01dcf8>"
      ]
     },
     "execution_count": 91,
     "metadata": {},
     "output_type": "execute_result"
    }
   ],
   "source": [
    "########### Model 2 - bucketting the tenure variable.\n",
    "# Bucketized feature creation \n",
    "shutil.rmtree(\"Input/Input5\")\n",
    "df_col_names = df.columns.tolist()[1:20]\n",
    "tenure = tf.feature_column.numeric_column('tenure')\n",
    "tenure_buckets = tf.feature_column.bucketized_column(\n",
    "    tenure, boundaries=[6,12,24])\n",
    "# Cross terms feature creation between Security,Backup and protection which might affect custumers \n",
    "sec_back_protec = [tf.feature_column.crossed_column(\n",
    "    ['OnlineSecurity', 'OnlineBackup','DeviceProtection'], hash_bucket_size=1000)]\n",
    "tenure_buckets_sec_back_protec = [tf.feature_column.crossed_column(\n",
    "    [tenure_buckets, 'OnlineSecurity', 'OnlineBackup','DeviceProtection'], hash_bucket_size=1000)]\n",
    "base_columns = [tenure_buckets,]\n",
    "numeric_feature  = ['tenure', 'MonthlyCharges', 'TotalCharges']\n",
    "numeric_feature_cols = [tf.feature_column.numeric_column(c) for c in numeric_feature]\n",
    "categorical_feature_name  = [i for i in df_col_names if i not in numeric_feature]\n",
    "dim_cat=[len(df[i].unique()) for i in categorical_feature_name]\n",
    "categorical_features = [tf.feature_column.categorical_column_with_hash_bucket(c, hash_bucket_size=size) \n",
    "        for c, size in zip(categorical_feature_name, dim_cat)]\n",
    "###LinearClassifier:\n",
    "feature_columns_bucket=categorical_features+base_columns+sec_back_protec+tenure_buckets_sec_back_protec\n",
    "classifier_linear_m2 = tf.estimator.LinearClassifier(feature_columns=feature_columns_bucket,model_dir=\"Input/Input5\",optimizer=tf.train.FtrlOptimizer(learning_rate=0.1,l1_regularization_strength=0.9,l2_regularization_strength=5))\n",
    "tf.logging.set_verbosity(tf.logging.ERROR)\n",
    "classifier_linear_m2.train(input_fn=train_input_func, steps=10000)"
   ]
  },
  {
   "cell_type": "code",
   "execution_count": 92,
   "metadata": {},
   "outputs": [
    {
     "name": "stdout",
     "output_type": "stream",
     "text": [
      "[[1013  314]\n",
      " [ 112  322]]\n",
      "              precision    recall  f1-score   support\n",
      "\n",
      "           0       0.90      0.76      0.83      1327\n",
      "           1       0.51      0.74      0.60       434\n",
      "\n",
      "    accuracy                           0.76      1761\n",
      "   macro avg       0.70      0.75      0.71      1761\n",
      "weighted avg       0.80      0.76      0.77      1761\n",
      "\n"
     ]
    },
    {
     "data": {
      "text/plain": [
       "{'accuracy': 0.73,\n",
       " 'accuracy_baseline': 0.79,\n",
       " 'auc': 0.85262203,\n",
       " 'auc_precision_recall': 0.68869144,\n",
       " 'average_loss': 0.5168109,\n",
       " 'label/mean': 0.21,\n",
       " 'loss': 51.681087,\n",
       " 'precision': 0.42857143,\n",
       " 'prediction/mean': 0.43084568,\n",
       " 'recall': 0.85714287,\n",
       " 'global_step': 10000}"
      ]
     },
     "execution_count": 92,
     "metadata": {},
     "output_type": "execute_result"
    }
   ],
   "source": [
    "classifier_linear_m2.evaluate(input_fn=test_input_func, steps=1)\n",
    "y_pred_l = classifier_linear_m2.predict(input_fn=test_input_func) \n",
    "y_preds_l= [i['class_ids'][0] for i in y_pred_l]\n",
    "from sklearn.metrics import classification_report,confusion_matrix\n",
    "print(confusion_matrix(y_test, y_preds_l))\n",
    "print(classification_report(y_test, y_preds_l, target_names=['0','1']))\n",
    "classifier_linear_m2.evaluate(input_fn=test_input_func, steps=1)"
   ]
  },
  {
   "cell_type": "code",
   "execution_count": 71,
   "metadata": {},
   "outputs": [
    {
     "data": {
      "text/plain": [
       "[3847, 3847]"
      ]
     },
     "execution_count": 71,
     "metadata": {},
     "output_type": "execute_result"
    }
   ],
   "source": [
    "########## Model 4:Balancing dataset: LinearClassifier\n",
    "#Resampled train dataset samples per class Counter({0: , 1})\n",
    "from imblearn.over_sampling import RandomOverSampler\n",
    "ros = RandomOverSampler(random_state=0)\n",
    "X_resampled, y_resampled = ros.fit_resample(X_train, y_train)\n",
    "X_train_resampled=pd.DataFrame(data=X_resampled,columns=df_col_names)\n",
    "y_train_resampled=pd.Series(data=y_resampled,name='Churn')\n",
    "keys = X_train.keys()\n",
    "for s in keys: \n",
    "    tipe = X_train[s].dtype\n",
    "    X_train_resampled[s]=X_train_resampled[s].astype(tipe)\n",
    " # Prepare train and test datasets:\n",
    "#X_train, X_test, y_train, y_test = train_test_split(X_resampled, y_resampled, test_size=0.25, random_state=1)\n",
    "[(y_train_resampled == 0).sum(),(y_train_resampled == 1).sum()]"
   ]
  },
  {
   "cell_type": "code",
   "execution_count": 93,
   "metadata": {},
   "outputs": [
    {
     "data": {
      "text/plain": [
       "<tensorflow.python.estimator.canned.linear.LinearClassifier at 0x1a4d8d9e48>"
      ]
     },
     "execution_count": 93,
     "metadata": {},
     "output_type": "execute_result"
    }
   ],
   "source": [
    "######Balancing dataset: LinearClassifier\n",
    "#Input functions and feature columns\n",
    "shutil.rmtree(\"Input/Input7\")\n",
    "batch_size = 100\n",
    "train_input_func = tf.estimator.inputs.pandas_input_fn(x=X_train_resampled, y=y_train_resampled, batch_size=batch_size,num_epochs=1000, shuffle=True)\n",
    "test_input_func = tf.estimator.inputs.pandas_input_fn(x=X_test,y=y_test,batch_size=batch_size,num_epochs=1,shuffle=False)\n",
    "n_classes = 2 # binary classifier for churn yes or no\n",
    "###LinearClassifier with regularisation\n",
    "classifier_linear_m4 = tf.estimator.LinearClassifier(feature_columns=all_feature_columns,model_dir=\"Input/input7\",optimizer=tf.train.FtrlOptimizer(learning_rate=0.1,l1_regularization_strength=0.2,l2_regularization_strength=1))\n",
    "tf.logging.set_verbosity(tf.logging.ERROR)\n",
    "classifier_linear_m4.train(input_fn=train_input_func, steps=10000)"
   ]
  },
  {
   "cell_type": "code",
   "execution_count": 94,
   "metadata": {},
   "outputs": [
    {
     "name": "stdout",
     "output_type": "stream",
     "text": [
      "[[1177  150]\n",
      " [ 200  234]]\n",
      "              precision    recall  f1-score   support\n",
      "\n",
      "           0       0.85      0.89      0.87      1327\n",
      "           1       0.61      0.54      0.57       434\n",
      "\n",
      "    accuracy                           0.80      1761\n",
      "   macro avg       0.73      0.71      0.72      1761\n",
      "weighted avg       0.79      0.80      0.80      1761\n",
      "\n"
     ]
    },
    {
     "data": {
      "text/plain": [
       "{'accuracy': 0.83,\n",
       " 'accuracy_baseline': 0.79,\n",
       " 'auc': 0.81374323,\n",
       " 'auc_precision_recall': 0.64844054,\n",
       " 'average_loss': 0.43010226,\n",
       " 'label/mean': 0.21,\n",
       " 'loss': 43.010227,\n",
       " 'precision': 0.59090906,\n",
       " 'prediction/mean': 0.26860404,\n",
       " 'recall': 0.61904764,\n",
       " 'global_step': 10000}"
      ]
     },
     "execution_count": 94,
     "metadata": {},
     "output_type": "execute_result"
    }
   ],
   "source": [
    "classifier_linear_m4.evaluate(input_fn=test_input_func, steps=1)\n",
    "y_pred_l = classifier_linear_m4.predict(input_fn=test_input_func) \n",
    "y_preds_l= [i['class_ids'][0] for i in y_pred_l]\n",
    "from sklearn.metrics import classification_report,confusion_matrix\n",
    "print(confusion_matrix(y_test, y_preds_l))\n",
    "print(classification_report(y_test, y_preds_l, target_names=['0','1']))\n",
    "classifier_linear_m4.evaluate(input_fn=test_input_func, steps=1)"
   ]
  },
  {
   "cell_type": "code",
   "execution_count": 86,
   "metadata": {},
   "outputs": [
    {
     "data": {
      "text/plain": [
       "<tensorflow.python.estimator.canned.dnn.DNNClassifier at 0x1a3cfdb4a8>"
      ]
     },
     "execution_count": 86,
     "metadata": {},
     "output_type": "execute_result"
    }
   ],
   "source": [
    "########## Model 4:Balancing dataset: DNNClassifier\n",
    "###DNNClassifier with regularisation\n",
    "shutil.rmtree(\"Input/Input8\")\n",
    "dnnclassifier= tf.estimator.DNNClassifier(feature_columns=all_embed_feature_columns, hidden_units=[8,6],model_dir=\"Input/Input8\",optimizer=tf.train.FtrlOptimizer(learning_rate=0.1,l1_regularization_strength=0.1,l2_regularization_strength=.5))\n",
    "tf.logging.set_verbosity(tf.logging.ERROR)\n",
    "dnnclassifier.train(input_fn=train_input_func, steps=10000)"
   ]
  },
  {
   "cell_type": "code",
   "execution_count": 87,
   "metadata": {},
   "outputs": [
    {
     "name": "stdout",
     "output_type": "stream",
     "text": [
      "[[1163  164]\n",
      " [ 186  248]]\n",
      "              precision    recall  f1-score   support\n",
      "\n",
      "           0       0.86      0.88      0.87      1327\n",
      "           1       0.60      0.57      0.59       434\n",
      "\n",
      "    accuracy                           0.80      1761\n",
      "   macro avg       0.73      0.72      0.73      1761\n",
      "weighted avg       0.80      0.80      0.80      1761\n",
      "\n"
     ]
    },
    {
     "data": {
      "text/plain": [
       "{'accuracy': 0.84,\n",
       " 'accuracy_baseline': 0.79,\n",
       " 'auc': 0.835443,\n",
       " 'auc_precision_recall': 0.65404534,\n",
       " 'average_loss': 0.420402,\n",
       " 'label/mean': 0.21,\n",
       " 'loss': 42.0402,\n",
       " 'precision': 0.6086956,\n",
       " 'prediction/mean': 0.32175225,\n",
       " 'recall': 0.6666667,\n",
       " 'global_step': 10000}"
      ]
     },
     "execution_count": 87,
     "metadata": {},
     "output_type": "execute_result"
    }
   ],
   "source": [
    "dnnclassifier.evaluate(input_fn=test_input_func, steps=1)\n",
    "y_pred_l = dnnclassifier.predict(input_fn=test_input_func) \n",
    "y_preds_l= [i['class_ids'][0] for i in y_pred_l]\n",
    "from sklearn.metrics import classification_report,confusion_matrix\n",
    "print(confusion_matrix(y_test, y_preds_l))\n",
    "print(classification_report(y_test, y_preds_l, target_names=['0','1']))\n",
    "dnnclassifier.evaluate(input_fn=test_input_func, steps=1)"
   ]
  },
  {
   "cell_type": "code",
   "execution_count": null,
   "metadata": {},
   "outputs": [],
   "source": []
  }
 ],
 "metadata": {
  "kernelspec": {
   "display_name": "Python 3",
   "language": "python",
   "name": "python3"
  },
  "language_info": {
   "codemirror_mode": {
    "name": "ipython",
    "version": 3
   },
   "file_extension": ".py",
   "mimetype": "text/x-python",
   "name": "python",
   "nbconvert_exporter": "python",
   "pygments_lexer": "ipython3",
   "version": "3.6.5"
  }
 },
 "nbformat": 4,
 "nbformat_minor": 2
}
